{
 "cells": [
  {
   "cell_type": "code",
   "execution_count": null,
   "id": "77d3156d-332a-466f-9213-8a2e43b688db",
   "metadata": {},
   "outputs": [],
   "source": [
    "import sys\n",
    "import time\n",
    "import typing\n",
    "\n",
    "import numpy as np\n",
    "import pandas as pd\n",
    "from PyQt5 import QtCore, QtGui, QtWidgets\n",
    "\n",
    "from GUI.gui_utils import *\n",
    "\n",
    "app = QtWidgets.QApplication(sys.argv)\n",
    "MainWindow = QtWidgets.QMainWindow()\n",
    "ui = App(MainWindow=MainWindow)\n",
    "MainWindow.show()\n",
    "sys.exit(app.exec_())"
   ]
  }
 ],
 "metadata": {
  "kernelspec": {
   "display_name": "Python 3 (ipykernel)",
   "language": "python",
   "name": "python3"
  },
  "language_info": {
   "codemirror_mode": {
    "name": "ipython",
    "version": 3
   },
   "file_extension": ".py",
   "mimetype": "text/x-python",
   "name": "python",
   "nbconvert_exporter": "python",
   "pygments_lexer": "ipython3",
   "version": "3.8.10"
  }
 },
 "nbformat": 4,
 "nbformat_minor": 5
}
